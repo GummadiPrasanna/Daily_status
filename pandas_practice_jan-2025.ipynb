{
 "cells": [
  {
   "cell_type": "code",
   "execution_count": null,
   "id": "75c86f08",
   "metadata": {},
   "outputs": [],
   "source": [
    "# ---variable creation----"
   ]
  },
  {
   "cell_type": "code",
   "execution_count": null,
   "id": "35b2e241",
   "metadata": {},
   "outputs": [],
   "source": [
    "# ---data_types---\n",
    "# int-----0-9 numbers\n",
    "# float---- 10.25 decimal numbers\n",
    "# character----A-Z letters and special characters(decimal numbers)"
   ]
  },
  {
   "cell_type": "code",
   "execution_count": null,
   "id": "01ddd9ed",
   "metadata": {},
   "outputs": [],
   "source": [
    "# variable==\"value\""
   ]
  },
  {
   "cell_type": "code",
   "execution_count": null,
   "id": "1cd4239c",
   "metadata": {},
   "outputs": [],
   "source": [
    "# ----This is example of single variable creation-----"
   ]
  },
  {
   "cell_type": "code",
   "execution_count": 2,
   "id": "2938b367",
   "metadata": {},
   "outputs": [],
   "source": [
    "first_name=\"prasanna\""
   ]
  },
  {
   "cell_type": "code",
   "execution_count": 3,
   "id": "0e6bed69",
   "metadata": {},
   "outputs": [
    {
     "name": "stdout",
     "output_type": "stream",
     "text": [
      "prasanna\n"
     ]
    }
   ],
   "source": [
    "print(first_name)"
   ]
  },
  {
   "cell_type": "code",
   "execution_count": null,
   "id": "fe856af1",
   "metadata": {},
   "outputs": [],
   "source": [
    "# ----This is example of variable creation----"
   ]
  },
  {
   "cell_type": "code",
   "execution_count": 4,
   "id": "1c4efe63",
   "metadata": {},
   "outputs": [],
   "source": [
    "frd1=\"mamatha\""
   ]
  },
  {
   "cell_type": "code",
   "execution_count": 5,
   "id": "6a00117c",
   "metadata": {},
   "outputs": [],
   "source": [
    "frd2=\"prasanna\""
   ]
  },
  {
   "cell_type": "code",
   "execution_count": 6,
   "id": "e9f354de",
   "metadata": {},
   "outputs": [
    {
     "name": "stdout",
     "output_type": "stream",
     "text": [
      "my friends names are mamatha prasanna\n"
     ]
    }
   ],
   "source": [
    "print(\"my friends names are\",frd1,frd2)"
   ]
  },
  {
   "cell_type": "code",
   "execution_count": null,
   "id": "2fc909a7",
   "metadata": {},
   "outputs": [],
   "source": [
    "# range function: It dispaly range condition based two or more values\n",
    "#     syntax:\n",
    "#         varable_name(index_number:index_number)\n",
    "# ----it dipaly only one value ---\n",
    "# syntax:\n",
    "#      varaiable[ perticular index_number]"
   ]
  },
  {
   "cell_type": "code",
   "execution_count": 7,
   "id": "acfc164a",
   "metadata": {},
   "outputs": [],
   "source": [
    "# example of range funtion:\n",
    "name=[\"prasanna\",\"sravani\",\"mamatha\",\"medhana\",\"madhu_priya\"]   "
   ]
  },
  {
   "cell_type": "code",
   "execution_count": 8,
   "id": "6aee4758",
   "metadata": {},
   "outputs": [
    {
     "name": "stdout",
     "output_type": "stream",
     "text": [
      "['prasanna', 'sravani', 'mamatha', 'medhana', 'madhu_priya']\n"
     ]
    }
   ],
   "source": [
    "print(name)"
   ]
  },
  {
   "cell_type": "code",
   "execution_count": 9,
   "id": "d5b98f96",
   "metadata": {},
   "outputs": [
    {
     "data": {
      "text/plain": [
       "['prasanna', 'sravani', 'mamatha', 'medhana', 'madhu_priya']"
      ]
     },
     "execution_count": 9,
     "metadata": {},
     "output_type": "execute_result"
    }
   ],
   "source": [
    "name"
   ]
  },
  {
   "cell_type": "code",
   "execution_count": 10,
   "id": "92623a51",
   "metadata": {},
   "outputs": [
    {
     "data": {
      "text/plain": [
       "['prasanna', 'sravani']"
      ]
     },
     "execution_count": 10,
     "metadata": {},
     "output_type": "execute_result"
    }
   ],
   "source": [
    "name[0:2]"
   ]
  },
  {
   "cell_type": "code",
   "execution_count": 13,
   "id": "049c00f1",
   "metadata": {},
   "outputs": [
    {
     "data": {
      "text/plain": [
       "['sravani', 'mamatha']"
      ]
     },
     "execution_count": 13,
     "metadata": {},
     "output_type": "execute_result"
    }
   ],
   "source": [
    "name[1:3]"
   ]
  },
  {
   "cell_type": "code",
   "execution_count": 14,
   "id": "305f30f5",
   "metadata": {},
   "outputs": [
    {
     "data": {
      "text/plain": [
       "'prasanna'"
      ]
     },
     "execution_count": 14,
     "metadata": {},
     "output_type": "execute_result"
    }
   ],
   "source": [
    "name[0]"
   ]
  },
  {
   "cell_type": "code",
   "execution_count": 16,
   "id": "b9f478f5",
   "metadata": {},
   "outputs": [
    {
     "data": {
      "text/plain": [
       "'madhu_priya'"
      ]
     },
     "execution_count": 16,
     "metadata": {},
     "output_type": "execute_result"
    }
   ],
   "source": [
    "name[4]"
   ]
  },
  {
   "cell_type": "code",
   "execution_count": 18,
   "id": "e64107a9",
   "metadata": {},
   "outputs": [
    {
     "name": "stdout",
     "output_type": "stream",
     "text": [
      "10\n"
     ]
    }
   ],
   "source": [
    "# addition:\n",
    "a=5\n",
    "b=5\n",
    "c=a+b\n",
    "print(c)\n",
    "    "
   ]
  },
  {
   "cell_type": "code",
   "execution_count": null,
   "id": "4d3f1f6c",
   "metadata": {},
   "outputs": [],
   "source": [
    "# list[]\n",
    "# --> it used for slicing data, change,replace,slicing forward,backword,+1,-1\n",
    "# it modofy data and replace data\n",
    "# syntax:\n",
    "#     list=[\"value1\",\"value2\",\"value3\"]"
   ]
  },
  {
   "cell_type": "code",
   "execution_count": 19,
   "id": "283f91b8",
   "metadata": {},
   "outputs": [
    {
     "name": "stdout",
     "output_type": "stream",
     "text": [
      "['prasanna', 'sravani', 'mamatha', 'medhana', 'madhu_priya']\n"
     ]
    }
   ],
   "source": [
    "list=[\"prasanna\",\"sravani\",\"mamatha\",\"medhana\",\"madhu_priya\"]\n",
    "print(list)"
   ]
  },
  {
   "cell_type": "code",
   "execution_count": null,
   "id": "ab7903dc",
   "metadata": {},
   "outputs": [],
   "source": [
    "# set{}\n",
    "# data  it will be assceending order or desc  order\n",
    "# set will be used duplicates removed \n",
    "# sequential data to use set\n",
    "# synatx:\n",
    "#     set={1,2,3,1,5,3,8}"
   ]
  },
  {
   "cell_type": "code",
   "execution_count": 1,
   "id": "bc942b4e",
   "metadata": {},
   "outputs": [],
   "source": [
    "set={1,2,3,1,5,3,8}"
   ]
  },
  {
   "cell_type": "code",
   "execution_count": 2,
   "id": "1e3b8041",
   "metadata": {},
   "outputs": [
    {
     "name": "stdout",
     "output_type": "stream",
     "text": [
      "{1, 2, 3, 5, 8}\n"
     ]
    }
   ],
   "source": [
    "print(set)"
   ]
  },
  {
   "cell_type": "code",
   "execution_count": null,
   "id": "c317a939",
   "metadata": {},
   "outputs": [],
   "source": [
    "# tuple()\n",
    "# slicing data forward and backword\n",
    "# can't modify the data and can't repalce data\n",
    "# syntax:\n",
    "#     tuple=(1,2,4,5,2,3)"
   ]
  },
  {
   "cell_type": "code",
   "execution_count": 3,
   "id": "375e2119",
   "metadata": {},
   "outputs": [],
   "source": [
    "tuple=(1,2,4,5,2,3)"
   ]
  },
  {
   "cell_type": "code",
   "execution_count": 4,
   "id": "1ab6379a",
   "metadata": {},
   "outputs": [
    {
     "data": {
      "text/plain": [
       "(1, 2, 4, 5, 2, 3)"
      ]
     },
     "execution_count": 4,
     "metadata": {},
     "output_type": "execute_result"
    }
   ],
   "source": [
    "tuple"
   ]
  },
  {
   "cell_type": "code",
   "execution_count": 6,
   "id": "67415d99",
   "metadata": {},
   "outputs": [],
   "source": [
    "dict={\"name\":[\"prasanna\",\"sravani\",\"meghana\",\"chandrika\"]}"
   ]
  },
  {
   "cell_type": "code",
   "execution_count": 12,
   "id": "76168ce7",
   "metadata": {},
   "outputs": [
    {
     "name": "stdout",
     "output_type": "stream",
     "text": [
      "['sravani', 'meghana', 'chandrika']\n"
     ]
    }
   ],
   "source": [
    "print(dict[\"name\"][1:5])"
   ]
  },
  {
   "cell_type": "code",
   "execution_count": null,
   "id": "b1d7c261",
   "metadata": {},
   "outputs": [],
   "source": [
    "# if condition:\n",
    "#     suntax:\n",
    "#         if condition:\n",
    "#         statement"
   ]
  },
  {
   "cell_type": "code",
   "execution_count": 14,
   "id": "758909bf",
   "metadata": {},
   "outputs": [
    {
     "name": "stdout",
     "output_type": "stream",
     "text": [
      "true\n"
     ]
    }
   ],
   "source": [
    "name=\"prasanna\"\n",
    "if name ==\"prasanna\":\n",
    "    print(\"true\")\n"
   ]
  },
  {
   "cell_type": "code",
   "execution_count": null,
   "id": "70eb47c0",
   "metadata": {},
   "outputs": [],
   "source": [
    "# if else condition:\n",
    "#     if condition:\n",
    "#         statement\n",
    "#     else:\n",
    "#         statement"
   ]
  },
  {
   "cell_type": "code",
   "execution_count": 15,
   "id": "d390b418",
   "metadata": {},
   "outputs": [
    {
     "name": "stdout",
     "output_type": "stream",
     "text": [
      "flase\n"
     ]
    }
   ],
   "source": [
    "name=\"prasanna\"\n",
    "if name ==\"sravani\":\n",
    "    print (\"true\")\n",
    "else:\n",
    "    print(\"flase\")"
   ]
  },
  {
   "cell_type": "code",
   "execution_count": null,
   "id": "b6a838bb",
   "metadata": {},
   "outputs": [],
   "source": [
    "# if elif and else condition:\n",
    "# if condition:\n",
    "#     statement\n",
    "# elif condition:\n",
    "#     statement\n",
    "# else:\n",
    "#     statement"
   ]
  },
  {
   "cell_type": "code",
   "execution_count": 16,
   "id": "b0e826ec",
   "metadata": {},
   "outputs": [
    {
     "name": "stdout",
     "output_type": "stream",
     "text": [
      "flase\n"
     ]
    }
   ],
   "source": [
    "name=\"prasanna\"\n",
    "if name ==\"sravani\":\n",
    "    print(\"true\")\n",
    "elif name ==\"mamatha\":\n",
    "    print(\"true\")\n",
    "else:\n",
    "    print(\"flase\")\n",
    "\n",
    "    \n"
   ]
  },
  {
   "cell_type": "code",
   "execution_count": 17,
   "id": "55369273",
   "metadata": {},
   "outputs": [
    {
     "name": "stdout",
     "output_type": "stream",
     "text": [
      "true\n"
     ]
    }
   ],
   "source": [
    "name=\"prasanna\"\n",
    "if name ==\"sravani\":\n",
    "    print(\"true\")\n",
    "elif name ==\"mamatha\":\n",
    "    print(\"true\")\n",
    "elif name ==\"prasanna\":\n",
    "    print(\"true\")\n",
    "else:\n",
    "    print(\"flase\")"
   ]
  },
  {
   "cell_type": "code",
   "execution_count": 18,
   "id": "b978ab4e",
   "metadata": {},
   "outputs": [
    {
     "name": "stdout",
     "output_type": "stream",
     "text": [
      "true, my name is prasanna\n"
     ]
    }
   ],
   "source": [
    "name=\"prasanna\"\n",
    "if name ==\"sravani\":\n",
    "    print(\"true\")\n",
    "elif name ==\"mamatha\":\n",
    "    print(\"true\")\n",
    "elif name ==\"prasanna\":\n",
    "    print(\"true, my name is\",name )\n",
    "else:\n",
    "    print(\"flase\")"
   ]
  },
  {
   "cell_type": "code",
   "execution_count": null,
   "id": "9fe18916",
   "metadata": {},
   "outputs": [],
   "source": [
    "# loops:\n",
    "# for loop:\n",
    "# syntax:\n",
    "#     list=[\"value1\",\"value2\",\"value3\"]\n",
    "#     for p in list:\n",
    "#         print(p)"
   ]
  },
  {
   "cell_type": "code",
   "execution_count": 22,
   "id": "701b3329",
   "metadata": {},
   "outputs": [
    {
     "name": "stdout",
     "output_type": "stream",
     "text": [
      "my friends names are prasanna\n",
      "my friends names are sravani\n",
      "my friends names are mamatha\n",
      "my friends names are medhana\n",
      "my friends names are madhu_priya\n",
      "my friends names are chandrika\n"
     ]
    }
   ],
   "source": [
    "list=[\"prasanna\",\"sravani\",\"mamatha\",\"medhana\",\"madhu_priya\", \"chandrika\"]\n",
    "for p in list:\n",
    "    print(\"my friends names are\",p)\n"
   ]
  },
  {
   "cell_type": "code",
   "execution_count": null,
   "id": "efb6a0a8",
   "metadata": {},
   "outputs": [],
   "source": [
    "# loop and condition based "
   ]
  },
  {
   "cell_type": "code",
   "execution_count": 30,
   "id": "aef212ee",
   "metadata": {},
   "outputs": [
    {
     "name": "stdout",
     "output_type": "stream",
     "text": [
      "my friends names are prasanna\n",
      "my friends names are sravani\n",
      "my friends names are mamatha\n",
      "my friends names are medhana\n",
      "my friends names are madhu_priya\n",
      "my friends names are chandrika\n"
     ]
    }
   ],
   "source": [
    "list=[\"prasanna\",\"sravani\",\"mamatha\",\"medhana\",\"madhu_priya\", \"chandrika\"]\n",
    "for p in list:\n",
    "    if list ==\"mamatha\":\n",
    "        print(\"my friends names are\",list)\n",
    "    print(\"my friends names are\",p)"
   ]
  },
  {
   "cell_type": "code",
   "execution_count": null,
   "id": "d91f6e06",
   "metadata": {},
   "outputs": [],
   "source": []
  },
  {
   "cell_type": "code",
   "execution_count": null,
   "id": "c1dd8b8f",
   "metadata": {},
   "outputs": [],
   "source": []
  },
  {
   "cell_type": "code",
   "execution_count": null,
   "id": "e1a296e7",
   "metadata": {},
   "outputs": [],
   "source": []
  },
  {
   "cell_type": "code",
   "execution_count": null,
   "id": "1145a4ea",
   "metadata": {},
   "outputs": [],
   "source": []
  },
  {
   "cell_type": "code",
   "execution_count": null,
   "id": "b7724369",
   "metadata": {},
   "outputs": [],
   "source": []
  },
  {
   "cell_type": "code",
   "execution_count": null,
   "id": "df80e676",
   "metadata": {},
   "outputs": [],
   "source": []
  },
  {
   "cell_type": "code",
   "execution_count": null,
   "id": "6a69e255",
   "metadata": {},
   "outputs": [],
   "source": []
  },
  {
   "cell_type": "code",
   "execution_count": null,
   "id": "90ec3dd0",
   "metadata": {},
   "outputs": [],
   "source": []
  }
 ],
 "metadata": {
  "kernelspec": {
   "display_name": "Python 3 (ipykernel)",
   "language": "python",
   "name": "python3"
  },
  "language_info": {
   "codemirror_mode": {
    "name": "ipython",
    "version": 3
   },
   "file_extension": ".py",
   "mimetype": "text/x-python",
   "name": "python",
   "nbconvert_exporter": "python",
   "pygments_lexer": "ipython3",
   "version": "3.10.9"
  }
 },
 "nbformat": 4,
 "nbformat_minor": 5
}
